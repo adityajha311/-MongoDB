{
  "nbformat": 4,
  "nbformat_minor": 0,
  "metadata": {
    "colab": {
      "provenance": []
    },
    "kernelspec": {
      "name": "python3",
      "display_name": "Python 3"
    },
    "language_info": {
      "name": "python"
    }
  },
  "cells": [
    {
      "cell_type": "markdown",
      "source": [
        "                                        Theoretical Questions"
      ],
      "metadata": {
        "id": "nq1ZZdntDd2c"
      }
    },
    {
      "cell_type": "markdown",
      "source": [
        "Q1. What are the key differences between SQL and NoSQL databases?\n",
        "\n",
        "Answer\n",
        "\n",
        "SQL databases are relational with fixed schemas and use tables (e.g., MySQL).\n",
        "NoSQL databases like MongoDB are schema‑less, store data as documents/JSON, and scale horizontally.\n",
        "\n",
        "\n"
      ],
      "metadata": {
        "id": "0NJvZmc8DrKD"
      }
    },
    {
      "cell_type": "markdown",
      "source": [
        "\n",
        "Q2. What makes MongoDB a good choice for modern applications?\n",
        "\n",
        "Answer\n",
        "\n",
        "MongoDB is flexible with schema‑less design, supports horizontal scaling, provides high performance, and handles large amounts of unstructured data easily.\n",
        "\n"
      ],
      "metadata": {
        "id": "eRWGSY29ELhX"
      }
    },
    {
      "cell_type": "markdown",
      "source": [
        "Q3. Explain the concept of collections in MongoDB.\n",
        "\n",
        "Answer\n",
        "\n",
        "A collection is a group of MongoDB documents, similar to a table in SQL.\n",
        "It stores related data without a fixed schema, allowing flexible fields per document.\n",
        "\n"
      ],
      "metadata": {
        "id": "7-ha_bzOEUJi"
      }
    },
    {
      "cell_type": "markdown",
      "source": [
        "Q4. How does MongoDB ensure high availability using replication?\n",
        "\n",
        "Answer\n",
        "\n",
        "MongoDB uses replica sets with a primary node and secondary nodes.\n",
        "Data is copied across nodes; if the primary fails, a secondary becomes primary automatically.\n",
        "\n"
      ],
      "metadata": {
        "id": "su7dXiJOEkoR"
      }
    },
    {
      "cell_type": "markdown",
      "source": [
        "Q5. What are the main benefits of MongoDB Atlas?\n",
        "\n",
        "Answer\n",
        "\n",
        "MongoDB Atlas is a fully managed cloud service offering automatic backups, scaling, global clusters, monitoring, and built‑in security.\n",
        "\n"
      ],
      "metadata": {
        "id": "lNFtQh4sEq9V"
      }
    },
    {
      "cell_type": "markdown",
      "source": [
        "Q6. What is the role of indexes in MongoDB, and how do they improve performance?\n",
        "\n",
        "Answer\n",
        "\n",
        "Indexes speed up query execution by allowing MongoDB to quickly locate documents.\n",
        "Without indexes, MongoDB scans the entire collection.\n",
        "\n"
      ],
      "metadata": {
        "id": "j-SsAquPEze3"
      }
    },
    {
      "cell_type": "markdown",
      "source": [
        "Q7. Describe the stages of the MongoDB aggregation pipeline.\n",
        "\n",
        "Answer\n",
        "\n",
        "Aggregation pipeline processes documents through stages like:\n",
        "\n",
        "$match (filter), $group (aggregate), $sort, $project (reshape), $lookup (join).\n",
        "\n"
      ],
      "metadata": {
        "id": "m85WuRRrE_8l"
      }
    },
    {
      "cell_type": "markdown",
      "source": [
        "Q8. What is sharding in MongoDB? How does it differ from replication?\n",
        "\n",
        "Answer\n",
        "\n",
        "Sharding distributes data across multiple servers for horizontal scaling.\n",
        "Replication copies the same data across servers for fault tolerance.\n",
        "\n"
      ],
      "metadata": {
        "id": "avxGKiyEFN30"
      }
    },
    {
      "cell_type": "markdown",
      "source": [
        "Q9. What is PyMongo, and why is it used?\n",
        "\n",
        "Answer\n",
        "\n",
        "PyMongo is the official Python driver for MongoDB.\n",
        "It allows Python applications to connect, query, and manage MongoDB databases programmatically.\n"
      ],
      "metadata": {
        "id": "alzlkBNdFY1O"
      }
    },
    {
      "cell_type": "markdown",
      "source": [
        "\n",
        "Q10. What are the ACID properties in the context of MongoDB transactions?\n",
        "\n",
        "Answer\n",
        "\n",
        "Atomicity: All operations succeed or none.\n",
        "\n",
        "Consistency: Keeps database valid.\n",
        "\n",
        "Isolation: Transactions don’t interfere.\n",
        "\n",
        "Durability: Results are permanent even after failures.\n",
        "\n"
      ],
      "metadata": {
        "id": "ZEhc4mYhFkld"
      }
    },
    {
      "cell_type": "markdown",
      "source": [
        "Q11. What is the purpose of MongoDB’s explain() function?\n",
        "\n",
        "Answer\n",
        "\n",
        "explain() shows how MongoDB executes a query.\n",
        "It helps analyze query performance and the use of indexes.\n"
      ],
      "metadata": {
        "id": "8WsXgZzIFzCS"
      }
    },
    {
      "cell_type": "markdown",
      "source": [
        "\n",
        "Q12. How does MongoDB handle schema validation?\n",
        "\n",
        "Answer\n",
        "\n",
        "MongoDB supports JSON Schema validation at the collection level.\n",
        "It enforces rules for required fields, data types, and value ranges.\n"
      ],
      "metadata": {
        "id": "isw1Q0eeGAA1"
      }
    },
    {
      "cell_type": "markdown",
      "source": [
        "\n",
        "Q13. What is the difference between a primary and a secondary node in a replica set?\n",
        "\n",
        "Answer\n",
        "\n",
        "Primary: Accepts read/write operations.\n",
        "\n",
        "Secondary: Copies data from the primary and can serve read requests (if enabled).\n",
        "\n"
      ],
      "metadata": {
        "id": "8jNO_ikLGIha"
      }
    },
    {
      "cell_type": "markdown",
      "source": [
        "Q14. What security mechanisms does MongoDB provide for data protection?\n",
        "\n",
        "Answer\n",
        "\n",
        "MongoDB offers authentication, role‑based access control (RBAC), TLS/SSL encryption, auditing, and IP whitelisting for secure access.\n",
        "\n"
      ],
      "metadata": {
        "id": "gi_IdQMrGaJK"
      }
    },
    {
      "cell_type": "markdown",
      "source": [
        "Q15. Explain the concept of embedded documents and when they should be used.\n",
        "\n",
        "Answer\n",
        "\n",
        "Embedded documents store related data inside a single document.\n",
        "They are best used when data is mostly accessed together (e.g., customer info + address).\n",
        "\n"
      ],
      "metadata": {
        "id": "oLfS1E91GvzO"
      }
    },
    {
      "cell_type": "markdown",
      "source": [
        "Q16. What is the purpose of MongoDB’s $lookup stage in aggregation?\n",
        "\n",
        "Answer\n",
        "\n",
        "$lookup performs a left outer join between collections.\n",
        "It combines related documents from different collections into a single result.\n",
        "\n"
      ],
      "metadata": {
        "id": "CZn7n2p-HUUx"
      }
    },
    {
      "cell_type": "markdown",
      "source": [
        "Q17. What are some common use cases for MongoDB?\n",
        "\n",
        "Answer\n",
        "\n",
        "Real‑time analytics\n",
        "\n",
        "Content management systems\n",
        "\n",
        "IoT & sensor data\n",
        "\n",
        "Social media platforms\n",
        "\n",
        "E‑commerce product catalogs\n",
        "\n"
      ],
      "metadata": {
        "id": "n2DoKAGhHdsk"
      }
    },
    {
      "cell_type": "markdown",
      "source": [
        "Q18. What are the advantages of using MongoDB for horizontal scaling?\n",
        "\n",
        "Answer\n",
        "\n",
        "MongoDB uses sharding to distribute data across servers, allowing:\n",
        "\n",
        "High throughput\n",
        "\n",
        "Large dataset handling\n",
        "\n",
        "Load balancing and cost‑efficient scaling\n",
        "\n"
      ],
      "metadata": {
        "id": "dO-ts1iIH02B"
      }
    },
    {
      "cell_type": "markdown",
      "source": [
        "Q19. How do MongoDB transactions differ from SQL transactions?\n",
        "\n",
        "Answer\n",
        "\n",
        "SQL transactions are standard and always multi‑row.\n",
        "MongoDB traditionally used single‑document atomic operations, but now supports multi‑document transactions (slower than SQL).\n",
        "\n"
      ],
      "metadata": {
        "id": "pC3hqShTH8_T"
      }
    },
    {
      "cell_type": "markdown",
      "source": [
        "Q20. What are the main differences between capped collections and regular collections?\n",
        "\n",
        "Answer\n",
        "\n",
        "Capped collections: Fixed size, maintain insertion order, auto‑delete oldest docs when full.\n",
        "\n",
        "Regular collections: Unlimited growth, flexible updates.\n",
        "\n"
      ],
      "metadata": {
        "id": "YkJbd0AeIE3K"
      }
    },
    {
      "cell_type": "markdown",
      "source": [
        "Q21. What is the purpose of the $match stage in MongoDB’s aggregation pipeline?\n",
        "\n",
        "Answer\n",
        "\n",
        "$match filters documents based on conditions, similar to SQL’s WHERE clause.\n",
        "It’s usually placed early to reduce processing load.\n",
        "\n"
      ],
      "metadata": {
        "id": "vnfpHr2BIOrH"
      }
    },
    {
      "cell_type": "markdown",
      "source": [
        "Q22. How can you secure access to a MongoDB database?\n",
        "\n",
        "Answer\n",
        "\n",
        "Enable authentication, enforce role‑based permissions, use TLS/SSL encryption, configure firewalls/IP whitelisting, and keep MongoDB updated.\n",
        "\n"
      ],
      "metadata": {
        "id": "QLvfMrVeIXcs"
      }
    },
    {
      "cell_type": "markdown",
      "source": [
        "Q23. What is MongoDB’s WiredTiger storage engine, and why is it important?\n",
        "\n",
        "Answer\n",
        "\n",
        "WiredTiger is MongoDB’s default storage engine.\n",
        "It supports compression, concurrency control, and journaling, giving better performance and efficient memory use."
      ],
      "metadata": {
        "id": "UTdfMo0UIgkb"
      }
    },
    {
      "cell_type": "markdown",
      "source": [
        "                                                Practical Questions"
      ],
      "metadata": {
        "id": "MoU5sGdFJG3K"
      }
    },
    {
      "cell_type": "code",
      "source": [
        "!pip install pymongo dnspython\n",
        "\n",
        "import pandas as pd\n",
        "from pymongo import MongoClient\n",
        "from google.colab import files\n",
        "\n",
        "client = MongoClient(\"mongodb+srv://<username>:<password>@<cluster-url>/\")\n",
        "db = client[\"superstore_db\"]\n",
        "orders = db[\"orders\"]\n",
        "\n"
      ],
      "metadata": {
        "colab": {
          "base_uri": "https://localhost:8080/"
        },
        "id": "vo12ND-JJvC7",
        "outputId": "a02b1ff1-fcb2-4ead-aa2e-94832460d051"
      },
      "execution_count": 14,
      "outputs": [
        {
          "output_type": "stream",
          "name": "stdout",
          "text": [
            "Requirement already satisfied: pymongo in /usr/local/lib/python3.11/dist-packages (4.13.2)\n",
            "Requirement already satisfied: dnspython in /usr/local/lib/python3.11/dist-packages (2.7.0)\n"
          ]
        }
      ]
    },
    {
      "cell_type": "code",
      "source": [
        "# Q1. Write a Python script to load the Superstore dataset from a CSV file into MongoDB.\n",
        "uploaded = files.upload()  # upload Superstore.csv\n",
        "df = pd.read_csv(\"Superstore.csv\")\n",
        "orders.insert_many(df.to_dict(\"records\"))\n",
        "print(\"Data inserted successfully!\")\n"
      ],
      "metadata": {
        "id": "As34f1rwRN88"
      },
      "execution_count": null,
      "outputs": []
    },
    {
      "cell_type": "code",
      "source": [
        "# Q2. Retrieve and print all documents from the Orders collection.\n",
        "for order in orders.find():\n",
        "    print(order)\n"
      ],
      "metadata": {
        "id": "D5KlF9BBRDmt"
      },
      "execution_count": null,
      "outputs": []
    },
    {
      "cell_type": "code",
      "source": [
        "# Q3. Count and display the total number of documents in the Orders collection.\n",
        "count = orders.count_documents({})\n",
        "print(\"Total documents:\", count)\n"
      ],
      "metadata": {
        "id": "nH1I5WoWRUok"
      },
      "execution_count": null,
      "outputs": []
    },
    {
      "cell_type": "code",
      "source": [
        "# Q4. Write a query to fetch all orders from the \"West\" region.\n",
        "for order in orders.find({\"Region\": \"West\"}):\n",
        "    print(order)\n"
      ],
      "metadata": {
        "id": "1ebmDvnQRYq-"
      },
      "execution_count": null,
      "outputs": []
    },
    {
      "cell_type": "code",
      "source": [
        "# Q5. Write a query to find orders where Sales is greater than 500.\n",
        "for order in orders.find({\"Sales\": {\"$gt\": 500}}):\n",
        "    print(order)\n"
      ],
      "metadata": {
        "id": "8Q6oBvnERqXO"
      },
      "execution_count": null,
      "outputs": []
    },
    {
      "cell_type": "code",
      "source": [
        "# Q6. Fetch the top 3 orders with the highest Profit.\n",
        "for order in orders.find().sort(\"Profit\", -1).limit(3):\n",
        "    print(order)\n"
      ],
      "metadata": {
        "id": "U2X0HhaZRsjb"
      },
      "execution_count": null,
      "outputs": []
    },
    {
      "cell_type": "code",
      "source": [
        "# Q7. Update all orders with Ship Mode as \"First Class\" to \"Premium Class\".\n",
        "result = orders.update_many({\"Ship Mode\": \"First Class\"}, {\"$set\": {\"Ship Mode\": \"Premium Class\"}})\n",
        "print(result.modified_count, \"documents updated\")\n"
      ],
      "metadata": {
        "id": "onssVCwyR1G3"
      },
      "execution_count": null,
      "outputs": []
    },
    {
      "cell_type": "code",
      "source": [
        "# Q8. Delete all orders where Sales is less than 50.\n",
        "result = orders.delete_many({\"Sales\": {\"$lt\": 50}})\n",
        "print(result.deleted_count, \"documents deleted\")\n"
      ],
      "metadata": {
        "id": "V74Z80WER6Z7"
      },
      "execution_count": null,
      "outputs": []
    },
    {
      "cell_type": "code",
      "source": [
        "# Q9. Use aggregation to group orders by Region and calculate total sales per region.\n",
        "pipeline = [\n",
        "    {\"$group\": {\"_id\": \"$Region\", \"total_sales\": {\"$sum\": \"$Sales\"}}}\n",
        "]\n",
        "\n",
        "for result in orders.aggregate(pipeline):\n",
        "    print(result)\n"
      ],
      "metadata": {
        "id": "4HhkUTFWR91p"
      },
      "execution_count": null,
      "outputs": []
    },
    {
      "cell_type": "code",
      "source": [
        "# Q10. Fetch all distinct values for Ship Mode from the collection.\n",
        "ship_modes = orders.distinct(\"Ship Mode\")\n",
        "print(\"Distinct Ship Modes:\", ship_modes)\n"
      ],
      "metadata": {
        "id": "C4QRkLBQSDJt"
      },
      "execution_count": null,
      "outputs": []
    },
    {
      "cell_type": "code",
      "source": [
        "# Q11. Count the number of orders for each category.\n",
        "pipeline = [\n",
        "    {\"$group\": {\"_id\": \"$Category\", \"order_count\": {\"$sum\": 1}}}\n",
        "]\n",
        "\n",
        "for result in orders.aggregate(pipeline):\n",
        "    print(result)\n"
      ],
      "metadata": {
        "id": "jxjujD0YSFuA"
      },
      "execution_count": null,
      "outputs": []
    }
  ]
}